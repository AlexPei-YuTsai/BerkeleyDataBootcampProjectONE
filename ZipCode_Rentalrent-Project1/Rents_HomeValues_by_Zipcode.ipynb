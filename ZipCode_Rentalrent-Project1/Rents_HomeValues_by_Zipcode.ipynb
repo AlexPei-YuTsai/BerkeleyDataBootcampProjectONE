{
 "cells": [
  {
   "cell_type": "code",
   "execution_count": 1,
   "id": "7d2fc0bd",
   "metadata": {},
   "outputs": [
    {
     "ename": "FileNotFoundError",
     "evalue": "[Errno 2] No such file or directory: 'Resources\\\\Zip_zhvi_uc_sfr_tier_0.33_0.67_sm_sa_month.csv'",
     "output_type": "error",
     "traceback": [
      "\u001b[1;31m---------------------------------------------------------------------------\u001b[0m",
      "\u001b[1;31mFileNotFoundError\u001b[0m                         Traceback (most recent call last)",
      "Cell \u001b[1;32mIn[1], line 11\u001b[0m\n\u001b[0;32m      8\u001b[0m price_house_summary \u001b[38;5;241m=\u001b[39m Path(\u001b[38;5;124m\"\u001b[39m\u001b[38;5;124mResources/rental_price_summary.csv\u001b[39m\u001b[38;5;124m\"\u001b[39m)\n\u001b[0;32m     10\u001b[0m \u001b[38;5;66;03m# Read rental rents and home values Data File and store into Pandas DataFrame\u001b[39;00m\n\u001b[1;32m---> 11\u001b[0m home_values_zc_data \u001b[38;5;241m=\u001b[39m \u001b[43mpd\u001b[49m\u001b[38;5;241;43m.\u001b[39;49m\u001b[43mread_csv\u001b[49m\u001b[43m(\u001b[49m\u001b[43mhome_values_zc\u001b[49m\u001b[43m)\u001b[49m\n\u001b[0;32m     12\u001b[0m rental_rates_zc_data \u001b[38;5;241m=\u001b[39m pd\u001b[38;5;241m.\u001b[39mread_csv(rental_rates_zc)\n\u001b[0;32m     13\u001b[0m price_house_summary_data \u001b[38;5;241m=\u001b[39m pd\u001b[38;5;241m.\u001b[39mread_csv(price_house_summary)\n",
      "File \u001b[1;32m~\\anaconda3\\envs\\dev\\lib\\site-packages\\pandas\\util\\_decorators.py:211\u001b[0m, in \u001b[0;36mdeprecate_kwarg.<locals>._deprecate_kwarg.<locals>.wrapper\u001b[1;34m(*args, **kwargs)\u001b[0m\n\u001b[0;32m    209\u001b[0m     \u001b[38;5;28;01melse\u001b[39;00m:\n\u001b[0;32m    210\u001b[0m         kwargs[new_arg_name] \u001b[38;5;241m=\u001b[39m new_arg_value\n\u001b[1;32m--> 211\u001b[0m \u001b[38;5;28;01mreturn\u001b[39;00m func(\u001b[38;5;241m*\u001b[39margs, \u001b[38;5;241m*\u001b[39m\u001b[38;5;241m*\u001b[39mkwargs)\n",
      "File \u001b[1;32m~\\anaconda3\\envs\\dev\\lib\\site-packages\\pandas\\util\\_decorators.py:331\u001b[0m, in \u001b[0;36mdeprecate_nonkeyword_arguments.<locals>.decorate.<locals>.wrapper\u001b[1;34m(*args, **kwargs)\u001b[0m\n\u001b[0;32m    325\u001b[0m \u001b[38;5;28;01mif\u001b[39;00m \u001b[38;5;28mlen\u001b[39m(args) \u001b[38;5;241m>\u001b[39m num_allow_args:\n\u001b[0;32m    326\u001b[0m     warnings\u001b[38;5;241m.\u001b[39mwarn(\n\u001b[0;32m    327\u001b[0m         msg\u001b[38;5;241m.\u001b[39mformat(arguments\u001b[38;5;241m=\u001b[39m_format_argument_list(allow_args)),\n\u001b[0;32m    328\u001b[0m         \u001b[38;5;167;01mFutureWarning\u001b[39;00m,\n\u001b[0;32m    329\u001b[0m         stacklevel\u001b[38;5;241m=\u001b[39mfind_stack_level(),\n\u001b[0;32m    330\u001b[0m     )\n\u001b[1;32m--> 331\u001b[0m \u001b[38;5;28;01mreturn\u001b[39;00m func(\u001b[38;5;241m*\u001b[39margs, \u001b[38;5;241m*\u001b[39m\u001b[38;5;241m*\u001b[39mkwargs)\n",
      "File \u001b[1;32m~\\anaconda3\\envs\\dev\\lib\\site-packages\\pandas\\io\\parsers\\readers.py:950\u001b[0m, in \u001b[0;36mread_csv\u001b[1;34m(filepath_or_buffer, sep, delimiter, header, names, index_col, usecols, squeeze, prefix, mangle_dupe_cols, dtype, engine, converters, true_values, false_values, skipinitialspace, skiprows, skipfooter, nrows, na_values, keep_default_na, na_filter, verbose, skip_blank_lines, parse_dates, infer_datetime_format, keep_date_col, date_parser, dayfirst, cache_dates, iterator, chunksize, compression, thousands, decimal, lineterminator, quotechar, quoting, doublequote, escapechar, comment, encoding, encoding_errors, dialect, error_bad_lines, warn_bad_lines, on_bad_lines, delim_whitespace, low_memory, memory_map, float_precision, storage_options)\u001b[0m\n\u001b[0;32m    935\u001b[0m kwds_defaults \u001b[38;5;241m=\u001b[39m _refine_defaults_read(\n\u001b[0;32m    936\u001b[0m     dialect,\n\u001b[0;32m    937\u001b[0m     delimiter,\n\u001b[1;32m   (...)\u001b[0m\n\u001b[0;32m    946\u001b[0m     defaults\u001b[38;5;241m=\u001b[39m{\u001b[38;5;124m\"\u001b[39m\u001b[38;5;124mdelimiter\u001b[39m\u001b[38;5;124m\"\u001b[39m: \u001b[38;5;124m\"\u001b[39m\u001b[38;5;124m,\u001b[39m\u001b[38;5;124m\"\u001b[39m},\n\u001b[0;32m    947\u001b[0m )\n\u001b[0;32m    948\u001b[0m kwds\u001b[38;5;241m.\u001b[39mupdate(kwds_defaults)\n\u001b[1;32m--> 950\u001b[0m \u001b[38;5;28;01mreturn\u001b[39;00m \u001b[43m_read\u001b[49m\u001b[43m(\u001b[49m\u001b[43mfilepath_or_buffer\u001b[49m\u001b[43m,\u001b[49m\u001b[43m \u001b[49m\u001b[43mkwds\u001b[49m\u001b[43m)\u001b[49m\n",
      "File \u001b[1;32m~\\anaconda3\\envs\\dev\\lib\\site-packages\\pandas\\io\\parsers\\readers.py:605\u001b[0m, in \u001b[0;36m_read\u001b[1;34m(filepath_or_buffer, kwds)\u001b[0m\n\u001b[0;32m    602\u001b[0m _validate_names(kwds\u001b[38;5;241m.\u001b[39mget(\u001b[38;5;124m\"\u001b[39m\u001b[38;5;124mnames\u001b[39m\u001b[38;5;124m\"\u001b[39m, \u001b[38;5;28;01mNone\u001b[39;00m))\n\u001b[0;32m    604\u001b[0m \u001b[38;5;66;03m# Create the parser.\u001b[39;00m\n\u001b[1;32m--> 605\u001b[0m parser \u001b[38;5;241m=\u001b[39m TextFileReader(filepath_or_buffer, \u001b[38;5;241m*\u001b[39m\u001b[38;5;241m*\u001b[39mkwds)\n\u001b[0;32m    607\u001b[0m \u001b[38;5;28;01mif\u001b[39;00m chunksize \u001b[38;5;129;01mor\u001b[39;00m iterator:\n\u001b[0;32m    608\u001b[0m     \u001b[38;5;28;01mreturn\u001b[39;00m parser\n",
      "File \u001b[1;32m~\\anaconda3\\envs\\dev\\lib\\site-packages\\pandas\\io\\parsers\\readers.py:1442\u001b[0m, in \u001b[0;36mTextFileReader.__init__\u001b[1;34m(self, f, engine, **kwds)\u001b[0m\n\u001b[0;32m   1439\u001b[0m     \u001b[38;5;28mself\u001b[39m\u001b[38;5;241m.\u001b[39moptions[\u001b[38;5;124m\"\u001b[39m\u001b[38;5;124mhas_index_names\u001b[39m\u001b[38;5;124m\"\u001b[39m] \u001b[38;5;241m=\u001b[39m kwds[\u001b[38;5;124m\"\u001b[39m\u001b[38;5;124mhas_index_names\u001b[39m\u001b[38;5;124m\"\u001b[39m]\n\u001b[0;32m   1441\u001b[0m \u001b[38;5;28mself\u001b[39m\u001b[38;5;241m.\u001b[39mhandles: IOHandles \u001b[38;5;241m|\u001b[39m \u001b[38;5;28;01mNone\u001b[39;00m \u001b[38;5;241m=\u001b[39m \u001b[38;5;28;01mNone\u001b[39;00m\n\u001b[1;32m-> 1442\u001b[0m \u001b[38;5;28mself\u001b[39m\u001b[38;5;241m.\u001b[39m_engine \u001b[38;5;241m=\u001b[39m \u001b[38;5;28;43mself\u001b[39;49m\u001b[38;5;241;43m.\u001b[39;49m\u001b[43m_make_engine\u001b[49m\u001b[43m(\u001b[49m\u001b[43mf\u001b[49m\u001b[43m,\u001b[49m\u001b[43m \u001b[49m\u001b[38;5;28;43mself\u001b[39;49m\u001b[38;5;241;43m.\u001b[39;49m\u001b[43mengine\u001b[49m\u001b[43m)\u001b[49m\n",
      "File \u001b[1;32m~\\anaconda3\\envs\\dev\\lib\\site-packages\\pandas\\io\\parsers\\readers.py:1735\u001b[0m, in \u001b[0;36mTextFileReader._make_engine\u001b[1;34m(self, f, engine)\u001b[0m\n\u001b[0;32m   1733\u001b[0m     \u001b[38;5;28;01mif\u001b[39;00m \u001b[38;5;124m\"\u001b[39m\u001b[38;5;124mb\u001b[39m\u001b[38;5;124m\"\u001b[39m \u001b[38;5;129;01mnot\u001b[39;00m \u001b[38;5;129;01min\u001b[39;00m mode:\n\u001b[0;32m   1734\u001b[0m         mode \u001b[38;5;241m+\u001b[39m\u001b[38;5;241m=\u001b[39m \u001b[38;5;124m\"\u001b[39m\u001b[38;5;124mb\u001b[39m\u001b[38;5;124m\"\u001b[39m\n\u001b[1;32m-> 1735\u001b[0m \u001b[38;5;28mself\u001b[39m\u001b[38;5;241m.\u001b[39mhandles \u001b[38;5;241m=\u001b[39m \u001b[43mget_handle\u001b[49m\u001b[43m(\u001b[49m\n\u001b[0;32m   1736\u001b[0m \u001b[43m    \u001b[49m\u001b[43mf\u001b[49m\u001b[43m,\u001b[49m\n\u001b[0;32m   1737\u001b[0m \u001b[43m    \u001b[49m\u001b[43mmode\u001b[49m\u001b[43m,\u001b[49m\n\u001b[0;32m   1738\u001b[0m \u001b[43m    \u001b[49m\u001b[43mencoding\u001b[49m\u001b[38;5;241;43m=\u001b[39;49m\u001b[38;5;28;43mself\u001b[39;49m\u001b[38;5;241;43m.\u001b[39;49m\u001b[43moptions\u001b[49m\u001b[38;5;241;43m.\u001b[39;49m\u001b[43mget\u001b[49m\u001b[43m(\u001b[49m\u001b[38;5;124;43m\"\u001b[39;49m\u001b[38;5;124;43mencoding\u001b[39;49m\u001b[38;5;124;43m\"\u001b[39;49m\u001b[43m,\u001b[49m\u001b[43m \u001b[49m\u001b[38;5;28;43;01mNone\u001b[39;49;00m\u001b[43m)\u001b[49m\u001b[43m,\u001b[49m\n\u001b[0;32m   1739\u001b[0m \u001b[43m    \u001b[49m\u001b[43mcompression\u001b[49m\u001b[38;5;241;43m=\u001b[39;49m\u001b[38;5;28;43mself\u001b[39;49m\u001b[38;5;241;43m.\u001b[39;49m\u001b[43moptions\u001b[49m\u001b[38;5;241;43m.\u001b[39;49m\u001b[43mget\u001b[49m\u001b[43m(\u001b[49m\u001b[38;5;124;43m\"\u001b[39;49m\u001b[38;5;124;43mcompression\u001b[39;49m\u001b[38;5;124;43m\"\u001b[39;49m\u001b[43m,\u001b[49m\u001b[43m \u001b[49m\u001b[38;5;28;43;01mNone\u001b[39;49;00m\u001b[43m)\u001b[49m\u001b[43m,\u001b[49m\n\u001b[0;32m   1740\u001b[0m \u001b[43m    \u001b[49m\u001b[43mmemory_map\u001b[49m\u001b[38;5;241;43m=\u001b[39;49m\u001b[38;5;28;43mself\u001b[39;49m\u001b[38;5;241;43m.\u001b[39;49m\u001b[43moptions\u001b[49m\u001b[38;5;241;43m.\u001b[39;49m\u001b[43mget\u001b[49m\u001b[43m(\u001b[49m\u001b[38;5;124;43m\"\u001b[39;49m\u001b[38;5;124;43mmemory_map\u001b[39;49m\u001b[38;5;124;43m\"\u001b[39;49m\u001b[43m,\u001b[49m\u001b[43m \u001b[49m\u001b[38;5;28;43;01mFalse\u001b[39;49;00m\u001b[43m)\u001b[49m\u001b[43m,\u001b[49m\n\u001b[0;32m   1741\u001b[0m \u001b[43m    \u001b[49m\u001b[43mis_text\u001b[49m\u001b[38;5;241;43m=\u001b[39;49m\u001b[43mis_text\u001b[49m\u001b[43m,\u001b[49m\n\u001b[0;32m   1742\u001b[0m \u001b[43m    \u001b[49m\u001b[43merrors\u001b[49m\u001b[38;5;241;43m=\u001b[39;49m\u001b[38;5;28;43mself\u001b[39;49m\u001b[38;5;241;43m.\u001b[39;49m\u001b[43moptions\u001b[49m\u001b[38;5;241;43m.\u001b[39;49m\u001b[43mget\u001b[49m\u001b[43m(\u001b[49m\u001b[38;5;124;43m\"\u001b[39;49m\u001b[38;5;124;43mencoding_errors\u001b[39;49m\u001b[38;5;124;43m\"\u001b[39;49m\u001b[43m,\u001b[49m\u001b[43m \u001b[49m\u001b[38;5;124;43m\"\u001b[39;49m\u001b[38;5;124;43mstrict\u001b[39;49m\u001b[38;5;124;43m\"\u001b[39;49m\u001b[43m)\u001b[49m\u001b[43m,\u001b[49m\n\u001b[0;32m   1743\u001b[0m \u001b[43m    \u001b[49m\u001b[43mstorage_options\u001b[49m\u001b[38;5;241;43m=\u001b[39;49m\u001b[38;5;28;43mself\u001b[39;49m\u001b[38;5;241;43m.\u001b[39;49m\u001b[43moptions\u001b[49m\u001b[38;5;241;43m.\u001b[39;49m\u001b[43mget\u001b[49m\u001b[43m(\u001b[49m\u001b[38;5;124;43m\"\u001b[39;49m\u001b[38;5;124;43mstorage_options\u001b[39;49m\u001b[38;5;124;43m\"\u001b[39;49m\u001b[43m,\u001b[49m\u001b[43m \u001b[49m\u001b[38;5;28;43;01mNone\u001b[39;49;00m\u001b[43m)\u001b[49m\u001b[43m,\u001b[49m\n\u001b[0;32m   1744\u001b[0m \u001b[43m\u001b[49m\u001b[43m)\u001b[49m\n\u001b[0;32m   1745\u001b[0m \u001b[38;5;28;01massert\u001b[39;00m \u001b[38;5;28mself\u001b[39m\u001b[38;5;241m.\u001b[39mhandles \u001b[38;5;129;01mis\u001b[39;00m \u001b[38;5;129;01mnot\u001b[39;00m \u001b[38;5;28;01mNone\u001b[39;00m\n\u001b[0;32m   1746\u001b[0m f \u001b[38;5;241m=\u001b[39m \u001b[38;5;28mself\u001b[39m\u001b[38;5;241m.\u001b[39mhandles\u001b[38;5;241m.\u001b[39mhandle\n",
      "File \u001b[1;32m~\\anaconda3\\envs\\dev\\lib\\site-packages\\pandas\\io\\common.py:856\u001b[0m, in \u001b[0;36mget_handle\u001b[1;34m(path_or_buf, mode, encoding, compression, memory_map, is_text, errors, storage_options)\u001b[0m\n\u001b[0;32m    851\u001b[0m \u001b[38;5;28;01melif\u001b[39;00m \u001b[38;5;28misinstance\u001b[39m(handle, \u001b[38;5;28mstr\u001b[39m):\n\u001b[0;32m    852\u001b[0m     \u001b[38;5;66;03m# Check whether the filename is to be opened in binary mode.\u001b[39;00m\n\u001b[0;32m    853\u001b[0m     \u001b[38;5;66;03m# Binary mode does not support 'encoding' and 'newline'.\u001b[39;00m\n\u001b[0;32m    854\u001b[0m     \u001b[38;5;28;01mif\u001b[39;00m ioargs\u001b[38;5;241m.\u001b[39mencoding \u001b[38;5;129;01mand\u001b[39;00m \u001b[38;5;124m\"\u001b[39m\u001b[38;5;124mb\u001b[39m\u001b[38;5;124m\"\u001b[39m \u001b[38;5;129;01mnot\u001b[39;00m \u001b[38;5;129;01min\u001b[39;00m ioargs\u001b[38;5;241m.\u001b[39mmode:\n\u001b[0;32m    855\u001b[0m         \u001b[38;5;66;03m# Encoding\u001b[39;00m\n\u001b[1;32m--> 856\u001b[0m         handle \u001b[38;5;241m=\u001b[39m \u001b[38;5;28;43mopen\u001b[39;49m\u001b[43m(\u001b[49m\n\u001b[0;32m    857\u001b[0m \u001b[43m            \u001b[49m\u001b[43mhandle\u001b[49m\u001b[43m,\u001b[49m\n\u001b[0;32m    858\u001b[0m \u001b[43m            \u001b[49m\u001b[43mioargs\u001b[49m\u001b[38;5;241;43m.\u001b[39;49m\u001b[43mmode\u001b[49m\u001b[43m,\u001b[49m\n\u001b[0;32m    859\u001b[0m \u001b[43m            \u001b[49m\u001b[43mencoding\u001b[49m\u001b[38;5;241;43m=\u001b[39;49m\u001b[43mioargs\u001b[49m\u001b[38;5;241;43m.\u001b[39;49m\u001b[43mencoding\u001b[49m\u001b[43m,\u001b[49m\n\u001b[0;32m    860\u001b[0m \u001b[43m            \u001b[49m\u001b[43merrors\u001b[49m\u001b[38;5;241;43m=\u001b[39;49m\u001b[43merrors\u001b[49m\u001b[43m,\u001b[49m\n\u001b[0;32m    861\u001b[0m \u001b[43m            \u001b[49m\u001b[43mnewline\u001b[49m\u001b[38;5;241;43m=\u001b[39;49m\u001b[38;5;124;43m\"\u001b[39;49m\u001b[38;5;124;43m\"\u001b[39;49m\u001b[43m,\u001b[49m\n\u001b[0;32m    862\u001b[0m \u001b[43m        \u001b[49m\u001b[43m)\u001b[49m\n\u001b[0;32m    863\u001b[0m     \u001b[38;5;28;01melse\u001b[39;00m:\n\u001b[0;32m    864\u001b[0m         \u001b[38;5;66;03m# Binary mode\u001b[39;00m\n\u001b[0;32m    865\u001b[0m         handle \u001b[38;5;241m=\u001b[39m \u001b[38;5;28mopen\u001b[39m(handle, ioargs\u001b[38;5;241m.\u001b[39mmode)\n",
      "\u001b[1;31mFileNotFoundError\u001b[0m: [Errno 2] No such file or directory: 'Resources\\\\Zip_zhvi_uc_sfr_tier_0.33_0.67_sm_sa_month.csv'"
     ]
    }
   ],
   "source": [
    "# Dependencies and Setup\n",
    "import pandas as pd\n",
    "from pathlib import Path\n",
    "\n",
    "# File to Load\n",
    "home_values_zc= Path(\"Resources/Zip_zhvi_uc_sfr_tier_0.33_0.67_sm_sa_month.csv\")\n",
    "rental_rates_zc = Path(\"Resources/Zip_zori_sm_month.csv\")\n",
    "price_house_summary = Path(\"Resources/rental_price_summary.csv\")\n",
    "\n",
    "# Read rental rents and home values Data File and store into Pandas DataFrame\n",
    "home_values_zc_data = pd.read_csv(home_values_zc)\n",
    "rental_rates_zc_data = pd.read_csv(rental_rates_zc)\n",
    "price_house_summary_data = pd.read_csv(price_house_summary)\n",
    "rental_rates_zc_data"
   ]
  },
  {
   "cell_type": "code",
   "execution_count": null,
   "id": "856f6392",
   "metadata": {},
   "outputs": [],
   "source": [
    "#Performed column selection and data cleaning to obtain precise and necessary information\n",
    "home_values_zc_filtered= home_values_zc_data.iloc[:, :8].join(home_values_zc_data.iloc[:, 249:])\n",
    "home_values_zc_filtered"
   ]
  },
  {
   "cell_type": "code",
   "execution_count": null,
   "id": "00081eb6",
   "metadata": {},
   "outputs": [],
   "source": [
    "#Calculate the average for year\n",
    "comlumns_2020_year = ['2020-01-31', '2020-02-29', '2020-03-31', '2020-04-30', '2020-05-31', '2020-06-30',\n",
    "                 '2020-07-31', '2020-08-31', '2020-09-30', '2020-10-31', '2020-11-30', '2020-12-31']\n",
    "average_2020_year = home_values_zc_filtered[comlumns_2020_year].mean (axis=1, numeric_only=True )\n",
    "average_2020_year\n",
    "\n",
    "comlumns_2021_year = ['2021-01-31', '2021-02-28', '2021-03-31', '2021-04-30', '2021-05-31', '2021-06-30',\n",
    "                 '2021-07-31', '2021-08-31', '2021-09-30', '2021-10-31', '2021-11-30', '2021-12-31']\n",
    "average_2021_year = home_values_zc_filtered[comlumns_2021_year].mean (axis=1, numeric_only=True )\n",
    "average_2021_year\n",
    "\n",
    "comlumns_2022_year = ['2022-01-31', '2022-02-28', '2022-03-31', '2022-04-30', '2022-05-31', '2022-06-30',\n",
    "                 '2022-07-31', '2022-08-31', '2022-09-30', '2022-10-31', '2022-11-30', '2022-12-31']\n",
    "average_2022_year = home_values_zc_filtered[comlumns_2022_year].mean (axis=1, numeric_only=True )\n",
    "average_2022_year\n",
    "\n",
    "comlumns_2023_year = ['2023-01-31', '2023-02-28', '2023-03-31', '2023-04-30']\n",
    "average_2023_year = home_values_zc_filtered[comlumns_2023_year].mean (axis=1, numeric_only=True )\n",
    "average_2023_year"
   ]
  },
  {
   "cell_type": "code",
   "execution_count": null,
   "id": "5fffd382",
   "metadata": {},
   "outputs": [],
   "source": [
    "#Create a summary DataFrame\n",
    "home_values_summary = {\n",
    "    'RegionID': home_values_zc_filtered['RegionID'],\n",
    "    'SizeRank': home_values_zc_filtered['SizeRank'],\n",
    "    'RegionName': home_values_zc_filtered['RegionName'],\n",
    "    'RegionType': home_values_zc_filtered['RegionType'],\n",
    "    'StateName': home_values_zc_filtered['StateName'],\n",
    "    'State': home_values_zc_filtered['State'],\n",
    "    'City': home_values_zc_filtered['City'],\n",
    "    'Metro': home_values_zc_filtered['Metro'],\n",
    "    'Home_values Average_2020': average_2020_year,\n",
    "    'Home_values Average_2021': average_2021_year,\n",
    "    'Home_values Average_2022': average_2022_year,\n",
    "    'Home_values Average_2023': average_2023_year}\n",
    "\n",
    "# Formatting\n",
    "home_values_summary [\"Home_values Average_2020\"] = home_values_summary[\"Home_values Average_2020\"].map(\"${:,.2f}\".format)\n",
    "home_values_summary [\"Home_values Average_2021\"] = home_values_summary[\"Home_values Average_2021\"].map(\"${:,.2f}\".format)\n",
    "home_values_summary [\"Home_values Average_2022\"] = home_values_summary[\"Home_values Average_2022\"].map(\"${:,.2f}\".format)\n",
    "home_values_summary [\"Home_values Average_2023\"] = home_values_summary[\"Home_values Average_2023\"].map(\"${:,.2f}\".format)\n",
    "\n",
    "# Display the DataFrame\n",
    "home_values_summary  = pd.DataFrame(home_values_summary)\n",
    "home_values_summary "
   ]
  },
  {
   "cell_type": "code",
   "execution_count": null,
   "id": "7aab86d9",
   "metadata": {
    "scrolled": true
   },
   "outputs": [],
   "source": [
    "#Performed column selection and data cleaning to obtain precise and necessary information\n",
    "rental_rates_zc_filtered= rental_rates_zc_data.iloc[:, :8].join(rental_rates_zc_data.iloc[:, 67:])\n",
    "rental_rates_zc_filtered"
   ]
  },
  {
   "cell_type": "code",
   "execution_count": null,
   "id": "d751aad6",
   "metadata": {},
   "outputs": [],
   "source": [
    "#Calculate the average for year\n",
    "comlumns_2020_year = ['1/31/2020', '2/29/2020', '3/31/2020', '4/30/2020', '5/31/2020', '6/30/2020',\n",
    "                 '7/31/2020', '8/31/2020', '9/30/2020', '10/31/2020', '11/30/2020', '12/31/2020']\n",
    "mean_2020_year = rental_rates_zc_filtered[comlumns_2020_year].mean (axis=1, numeric_only=True )\n",
    "mean_2020_year\n",
    "\n",
    "comlumns_2021_year = ['1/31/2021', '2/28/2021', '3/31/2021', '4/30/2021', '5/31/2021', '6/30/2021',\n",
    "                 '7/31/2021', '8/31/2021', '9/30/2021', '10/31/2021', '11/30/2021', '12/31/2021']\n",
    "mean_2021_year = rental_rates_zc_filtered[comlumns_2021_year].mean (axis=1, numeric_only=True )\n",
    "mean_2021_year\n",
    "\n",
    "comlumns_2022_year = ['1/31/2022', '2/28/2022', '3/31/2022', '4/30/2022', '5/31/2022', '6/30/2022',\n",
    "                 '7/31/2022', '8/31/2022', '9/30/2022', '10/31/2022', '11/30/2022', '12/31/2022']\n",
    "mean_2022_year = rental_rates_zc_filtered[comlumns_2022_year].mean (axis=1, numeric_only=True )\n",
    "mean_2022_year\n",
    "\n",
    "comlumns_2023_year = ['1/31/2023', '2/28/2023', '3/31/2023', '4/30/2023']\n",
    "mean_2023_year = rental_rates_zc_filtered[comlumns_2023_year].mean (axis=1, numeric_only=True )\n",
    "mean_2023_year"
   ]
  },
  {
   "cell_type": "code",
   "execution_count": null,
   "id": "2adbbe96",
   "metadata": {
    "scrolled": true
   },
   "outputs": [],
   "source": [
    "#Create a summary DataFrame\n",
    "rental_rates_summary = {\n",
    "    'RegionID': rental_rates_zc_filtered['RegionID'],\n",
    "    'SizeRank': rental_rates_zc_filtered['SizeRank'],\n",
    "    'RegionName': rental_rates_zc_filtered['RegionName'],\n",
    "    'RegionType': rental_rates_zc_filtered['RegionType'],\n",
    "    'StateName': rental_rates_zc_filtered['StateName'],\n",
    "    'State': rental_rates_zc_filtered['State'],\n",
    "    'City': rental_rates_zc_filtered['City'],\n",
    "    'Metro': rental_rates_zc_filtered['Metro'],\n",
    "    'Rental_rates Average_2020': mean_2020_year,\n",
    "    'Rental_rates Average_2021': mean_2021_year,\n",
    "    'Rental_rates Average_2022': mean_2022_year,\n",
    "    'Rental_rates Average_2023': mean_2023_year}\n",
    "\n",
    "# Formatting\n",
    "rental_rates_summary [\"Rental_rates Average_2020\"] = rental_rates_summary[\"Rental_rates Average_2020\"].map(\"${:,.2f}\".format)\n",
    "rental_rates_summary [\"Rental_rates Average_2021\"] = rental_rates_summary[\"Rental_rates Average_2021\"].map(\"${:,.2f}\".format)\n",
    "rental_rates_summary [\"Rental_rates Average_2022\"] = rental_rates_summary[\"Rental_rates Average_2022\"].map(\"${:,.2f}\".format)\n",
    "rental_rates_summary [\"Rental_rates Average_2023\"] = rental_rates_summary[\"Rental_rates Average_2023\"].map(\"${:,.2f}\".format)\n",
    "\n",
    "# Display the DataFrame\n",
    "rental_rates_summary  = pd.DataFrame(rental_rates_summary)\n",
    "rental_rates_summary"
   ]
  },
  {
   "cell_type": "code",
   "execution_count": null,
   "id": "46bbf8b8",
   "metadata": {
    "scrolled": true
   },
   "outputs": [],
   "source": [
    "#Combine the clean data into a single dataset.  \n",
    "rental_price_summary = pd.merge(home_values_summary, rental_rates_summary, how=\"left\", on=['RegionID', 'SizeRank', 'RegionName',\n",
    "                                                                                          'RegionType', 'StateName', 'State', \n",
    "                                                                                          'City', 'Metro',\n",
    "                                                                                          'RegionID', 'SizeRank', 'RegionName',\n",
    "                                                                                          'RegionType', 'StateName', 'State', \n",
    "                                                                                          'City', 'Metro'])\n",
    "rental_price_summary.head()"
   ]
  },
  {
   "cell_type": "code",
   "execution_count": null,
   "id": "2e2e51a3",
   "metadata": {},
   "outputs": [],
   "source": [
    "sorted_df = rental_price_summary.sort_values(by='RegionName', ascending=True)\n",
    "sorted_df"
   ]
  },
  {
   "cell_type": "code",
   "execution_count": null,
   "id": "b70bc446",
   "metadata": {},
   "outputs": [],
   "source": [
    "rental_price_summary.to_csv('rental_price_summary.csv', index=False)\n"
   ]
  },
  {
   "cell_type": "code",
   "execution_count": null,
   "id": "25235117",
   "metadata": {},
   "outputs": [],
   "source": [
    "#calculate various statistical measures such as count, mean, minimum, quartiles, and maximum for each numerical column in the DataFrame\n",
    "\n",
    "mean_by_zipcode = rental_price_summary.groupby('RegionName').mean(numeric_only=True)\n",
    "mean_by_zipcode\n",
    "\n",
    "median_by_zipcode = rental_price_summary.groupby('RegionName').median(numeric_only=True)\n",
    "median_by_zipcode\n",
    "\n",
    "min_by_zipcode = rental_price_summary.groupby('RegionName').min(numeric_only=True)\n",
    "min_by_zipcode\n",
    "\n",
    "max_by_zipcode = rental_price_summary.groupby('RegionName').max(numeric_only=True)\n",
    "max_by_zipcode\n"
   ]
  },
  {
   "cell_type": "code",
   "execution_count": null,
   "id": "71e38a29",
   "metadata": {},
   "outputs": [],
   "source": []
  }
 ],
 "metadata": {
  "kernelspec": {
   "display_name": "Python 3 (ipykernel)",
   "language": "python",
   "name": "python3"
  },
  "language_info": {
   "codemirror_mode": {
    "name": "ipython",
    "version": 3
   },
   "file_extension": ".py",
   "mimetype": "text/x-python",
   "name": "python",
   "nbconvert_exporter": "python",
   "pygments_lexer": "ipython3",
   "version": "3.10.11"
  }
 },
 "nbformat": 4,
 "nbformat_minor": 5
}
